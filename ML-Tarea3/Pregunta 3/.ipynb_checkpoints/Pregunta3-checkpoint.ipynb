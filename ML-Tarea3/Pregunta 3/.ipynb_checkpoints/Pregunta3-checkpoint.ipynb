{
 "cells": [
  {
   "cell_type": "markdown",
   "metadata": {},
   "source": [
    "## Pregunta 3 Reconocimiento de Imágenes en CIFAR10\n",
    "\n",
    "CIFAR10. Se trata de un conjunto de 60.000 imágenes RGB de 32 x 32 pixeles que contiene 10 clases de objetos (6000 ejemplos por clase). Está separado en 50000 ejemplos de entrenamiento y 10000 casos de prueba. El conjunto de pruebas fue obtenido seleccionando 1000 imágenes aleatorias de cada clase. Los datos restantes han sido ordenados aleatoriamente y están organizados en 5 bloques de entrenamiento (batches) donde cada batch puede tener más o menos imágenes de una determinada clase, pero en total existen 5000 imágenes de cada clase en el conjunto de entrenamiento. \n",
    "\n",
    "Las clases son mutuamente excluyentes y corresponden a las siguientes categorías: gato, perro, rana, caballo, pájaro, ciervo, avión, automóvil, camión y barco."
   ]
  },
  {
   "cell_type": "markdown",
   "metadata": {},
   "source": [
    "#### Se extraen los diccionarios\n",
    "\n",
    "Cada diccionario contiene 2 elementos importantes: data y labels. El primer elemento (data) es un matriz de 10000 x 3072 (numpy array). Cada fila de esa matriz corresponde a una imagen RGB: los primeros 1024 valores vienen del canal R, los siguientes 1024 del canal G, y los últimos 1024 del canal B.\n",
    "\n",
    "Para cada canal, las imágenes han sido vectorizadas por filas, de modo que los primeros 32 valores del canal R corresponden a la primera fila de la imagen. Por otro lado, el elemento (labels) del diccionario contiene una lista de 1000 valores enteros entre 0 y 9 que identifican las clases antes enumeradas."
   ]
  },
  {
   "cell_type": "code",
   "execution_count": 1,
   "metadata": {
    "collapsed": false
   },
   "outputs": [],
   "source": [
    "def unpickle(file):\n",
    "    import cPickle\n",
    "    fo = open(file, 'rb')\n",
    "    dict = cPickle.load(fo)\n",
    "    fo.close()\n",
    "    return dict\n",
    "\n",
    "label_names = ['airplane', 'automobile', 'bird', 'cat', 'deer', 'dog', 'frog', 'horse', 'ship', 'truck']"
   ]
  },
  {
   "cell_type": "markdown",
   "metadata": {},
   "source": [
    "### a) Creación de los conjuntos de datos\n",
    "\n",
    "Para la creación de los conjuntos de entrenamiento, pruebas y validación se generan las matrices $X_{tr}$, $X_{te}$ y $X_{v}$ respectivamente. El conjunto de validación corresponde a una muestra aleatoria del conjunto de pruebas, y corresponde a 10.000 imágenes que no necesariamente tienen  la misma cantidad de imágenes de cada clase."
   ]
  },
  {
   "cell_type": "code",
   "execution_count": 2,
   "metadata": {
    "collapsed": false
   },
   "outputs": [],
   "source": [
    "from scipy.misc import imread\n",
    "import cPickle as pickle\n",
    "import numpy as np\n",
    "import os\n",
    "from sklearn.cross_validation import train_test_split\n",
    "from matplotlib import pyplot as plt\n",
    "%matplotlib inline\n",
    "\n",
    "def load_CIFAR_one(filename):\n",
    "    with open(filename, 'rb') as f:\n",
    "        datadict = pickle.load(f)\n",
    "        X = datadict['data']\n",
    "        Y = datadict['labels']\n",
    "        return X, np.array(Y, dtype=int)\n",
    "\n",
    "def load_CIFAR10(PATH):\n",
    "    xs = []\n",
    "    ys = []\n",
    "    for b in range(1,6):\n",
    "        f = os.path.join(PATH, 'data_batch_%d' % (b, ))\n",
    "        X, Y = load_CIFAR_one(f)\n",
    "        xs.append(X)\n",
    "        ys.append(Y)\n",
    "    Xtemp = np.concatenate(xs)\n",
    "    Ytemp = np.concatenate(ys)\n",
    "    del X, Y\n",
    "    Xte, Yte = load_CIFAR_one(os.path.join(PATH, 'test_batch'))\n",
    "    Xtr, Xv, Ytr, Yv = train_test_split(Xtemp, Ytemp, test_size=0.2, random_state=0)\n",
    "    del Xtemp, Ytemp\n",
    "    return Xtr, Ytr, Xte, Yte, Xv, Yv\n",
    "#you need to add Xval\n",
    "Xtr, Ytr, Xte, Yte, Xv, Yv = load_CIFAR10('.')"
   ]
  },
  {
   "cell_type": "markdown",
   "metadata": {},
   "source": [
    "### b) Escalamiento\n",
    "\n",
    "Las dos formas más utilizadas para escalar datos corresponden a rescaling y standarization.  En  rescaling la idea es llevar los datos al rango [0,1], esto permite que no existan problemas asociados a las dimensiones de los datos, sin embargo, aún pueden quedar valores en diferentes órdenes de magnitud.\n",
    "\n",
    "$$x' = \\frac{x - \\text{min}(x)}{\\text{max}(x)-\\text{min}(x)}$$\n",
    "\n",
    "Standarization por su parte, asume que cada feature de los datos puede ser de naturaleza completamente distinta, por lo mismo, para cada feature calcula su media y su desviación estándar para aplicar la siguiente formula:\n",
    "\n",
    "$$x' = \\frac{x - \\bar{x}}{\\sigma}$$\n",
    "\n",
    "Donde $x'$ representa el vector de una característica. Lo que logra standarization, es que cada feature tenga media cero y varianza unitaria, lo cual es muy bueno para la mayoría de los algoritmos de aprendizaje que dependen de la escala de los datos."
   ]
  },
  {
   "cell_type": "code",
   "execution_count": 11,
   "metadata": {
    "collapsed": false
   },
   "outputs": [
    {
     "name": "stderr",
     "output_type": "stream",
     "text": [
      "Using Theano backend.\n"
     ]
    }
   ],
   "source": [
    "from sklearn.preprocessing import StandardScaler\n",
    "\n",
    "def scaler_function(Xtr,Xt,Xv,scale=True, type='estandar'):\n",
    "    if(type=='estandar'):\n",
    "        scaler = StandardScaler(with_std=scale).fit(Xtr)\n",
    "        Xtr_scaled = scaler.transform(Xtr)\n",
    "        Xt_scaled = scaler.transform(Xt)\n",
    "        Xv_scaled = scaler.transform(Xv)\n",
    "    elif(type=='intensidad_maxima'):\n",
    "        Xtr_scaled = np.divide(Xtr,255.)\n",
    "        Xt_scaled = np.divide(Xt,255.)\n",
    "        Xv_scaled = np.divide(Xv,255.)\n",
    "    return Xtr_scaled, Xt_scaled, Xv_scaled"
   ]
  },
  {
   "cell_type": "code",
   "execution_count": null,
   "metadata": {
    "collapsed": true
   },
   "outputs": [],
   "source": [
    "#Xtr, Xte, Xv = scaler_function(Xtr,Xte,Xv, type='estandar')\n",
    "#Xtr, Xte, Xv = scaler_function(Xtr,Xte,Xv, type='intensidad_maxima')\n",
    "\n",
    "from keras.utils.np_utils import to_categorical\n",
    "\n",
    "Ytr = to_categorical(Ytr)\n",
    "Yte = to_categorical(Yte)\n",
    "Yv = to_categorical(Yv)"
   ]
  },
  {
   "cell_type": "markdown",
   "metadata": {},
   "source": [
    "### c) Red Neuronal"
   ]
  },
  {
   "cell_type": "code",
   "execution_count": 13,
   "metadata": {
    "collapsed": false
   },
   "outputs": [],
   "source": [
    "from keras.models import Sequential\n",
    "from keras.layers import Dense, Activation, Dropout\n",
    "from keras.optimizers import SGD\n",
    "\n",
    "def do_ann(Xtr, Ytr, Xte, Yte, Xv, Yv):\n",
    "    model = Sequential()\n",
    "    model.add(Dense(100, input_dim=Xtr.shape[1], init='uniform', activation='relu'))\n",
    "    model.add(Dropout(0.1))\n",
    "    model.add(Dense(10, init='uniform', activation='softmax'))\n",
    "    model.compile(optimizer=SGD(lr=0.05), loss='binary_crossentropy', metrics=['accuracy'])\n",
    "    model.fit(Xtr, Ytr, nb_epoch=50, batch_size=32, verbose=0, validation_data=(Xv,Yv))\n",
    "    \n",
    "    scores = model.evaluate(Xtr, Ytr)\n",
    "    train_acc = scores[1]\n",
    "    scores = model.evaluate(Xv, Yv)\n",
    "    val_acc = scores[1]\n",
    "    scores = model.evaluate(Xte, Yte)\n",
    "    test_acc = scores[1]\n",
    "    \n",
    "    print \"\\nAccuracy de train: %f\"%(train_acc)\n",
    "    print \"Accuracy de validacion: %f\"%(val_acc)\n",
    "    print \"Accuracy de test: %f\"%(test_acc)"
   ]
  },
  {
   "cell_type": "code",
   "execution_count": 14,
   "metadata": {
    "collapsed": false
   },
   "outputs": [
    {
     "name": "stdout",
     "output_type": "stream",
     "text": [
      " 9952/10000 [============================>.] - ETA: 0s\n",
      "Accuracy de train: 0.926967\n",
      "Accuracy de validacion: 0.917700\n",
      "Accuracy de test: 0.917680\n"
     ]
    }
   ],
   "source": [
    "do_ann(Xtr, Ytr, Xte, Yte, Xv, Yv)   "
   ]
  },
  {
   "cell_type": "markdown",
   "metadata": {},
   "source": [
    "### d) Red Neuronal: extract_features\n",
    "\n",
    "Los histogramas de tono, son representaciones de las distintas tonalidades presentes en una imagen. Lo que muestran, son la frecuencia de colores a través de los pixeles de la imagen, según el rango de color en el que se encuentran. La ventaja que presentan, es que se pueden extraer las características más relevantes de la imagen en términos de color, según su frecuencia de aparición.\n",
    "\n",
    "<img src =\"histograma.jpg\" />\n",
    "\n",
    "Por su parte, los descriptores HOG ( Histogram Oriented Gradient), toman en cuenta la apariencia y la forma del objeto local dentro de una imagen que pueden describirse mediante la distribución de gradientes de intensidad  y  direcciones de borde. La imagen se divide en pequeñas regiones conectadas, y para los píxeles dentro de cada celda, se compila un histograma de direcciones de gradiente. El descriptor es la concatenación de estos histogramas. Habitualmente son utilizados para detección de objetos y especialmente para detección de imágenes de humanos.\n",
    "\n",
    "<img src =\"hog.gif\" />\n"
   ]
  },
  {
   "cell_type": "code",
   "execution_count": 6,
   "metadata": {
    "collapsed": false
   },
   "outputs": [],
   "source": [
    "Xtr, Ytr, Xte, Yte, Xv, Yv = load_CIFAR10('.')\n",
    "Ytr = to_categorical(Ytr)\n",
    "Yte = to_categorical(Yte)\n",
    "Yv = to_categorical(Yv)"
   ]
  },
  {
   "cell_type": "markdown",
   "metadata": {},
   "source": [
    "#### Feature: Histograma de Tono"
   ]
  },
  {
   "cell_type": "code",
   "execution_count": 10,
   "metadata": {
    "collapsed": false
   },
   "outputs": [
    {
     "name": "stdout",
     "output_type": "stream",
     "text": [
      "(40000L, 32L, 32L, 3L)\n",
      "(10000L, 32L, 32L, 3L)\n",
      "(10000L, 32L, 32L, 3L)\n"
     ]
    }
   ],
   "source": [
    "from top_level_features import color_histogram_hsv\n",
    "from top_level_features import hog_features\n",
    "from top_level_features import extract_features\n",
    "features_train = extract_features(Xtr,[color_histogram_hsv]) #extrae histogramas de color\n",
    "features_test = extract_features(Xte,[color_histogram_hsv]) #extrae histogramas de color\n",
    "features_val = extract_features(Xv,[color_histogram_hsv]) #extrae histogramas de color\n",
    "\n",
    "print Xtr.shape\n",
    "print features_train.shape"
   ]
  },
  {
   "cell_type": "code",
   "execution_count": 11,
   "metadata": {
    "collapsed": false
   },
   "outputs": [
    {
     "name": "stdout",
     "output_type": "stream",
     "text": [
      " 9664/10000 [===========================>..] - ETA: 0s\n",
      "Accuracy de train: 0.900000\n",
      "Accuracy de validacion: 0.900000\n",
      "Accuracy de test: 0.900000\n"
     ]
    }
   ],
   "source": [
    "do_red_neuronal(features_train, Ytr, features_test, Yte, features_val, Yv)"
   ]
  },
  {
   "cell_type": "markdown",
   "metadata": {},
   "source": [
    "#### Feature: Descriptores HOG"
   ]
  },
  {
   "cell_type": "code",
   "execution_count": 12,
   "metadata": {
    "collapsed": false
   },
   "outputs": [
    {
     "name": "stdout",
     "output_type": "stream",
     "text": [
      "(40000L, 32L, 32L, 3L)\n",
      "(10000L, 32L, 32L, 3L)\n",
      "(10000L, 32L, 32L, 3L)\n",
      "(40000L, 3072L)\n",
      "(40000L, 144L)\n"
     ]
    }
   ],
   "source": [
    "features_train = extract_features(Xtr,[hog_features]) #extrae hog features\n",
    "features_test = extract_features(Xte,[hog_features]) #extrae hog features\n",
    "features_val = extract_features(Xv,[hog_features]) #extrae hog features\n",
    "\n",
    "print Xtr.shape\n",
    "print features_train.shape"
   ]
  },
  {
   "cell_type": "code",
   "execution_count": 13,
   "metadata": {
    "collapsed": false
   },
   "outputs": [
    {
     "name": "stdout",
     "output_type": "stream",
     "text": [
      " 9824/10000 [============================>.] - ETA: 0s\n",
      "Accuracy de train: 0.939175\n",
      "Accuracy de validacion: 0.923140\n",
      "Accuracy de test: 0.923400\n"
     ]
    }
   ],
   "source": [
    "do_red_neuronal(features_train, Ytr, features_test, Yte, features_val, Yv)"
   ]
  },
  {
   "cell_type": "markdown",
   "metadata": {},
   "source": [
    "#### Feature: Híbrido (HOG e Histograma)"
   ]
  },
  {
   "cell_type": "code",
   "execution_count": 14,
   "metadata": {
    "collapsed": false
   },
   "outputs": [
    {
     "name": "stdout",
     "output_type": "stream",
     "text": [
      "(40000L, 32L, 32L, 3L)\n",
      "(10000L, 32L, 32L, 3L)\n",
      "(10000L, 32L, 32L, 3L)\n",
      "(40000L, 3072L)\n",
      "(40000L, 154L)\n"
     ]
    }
   ],
   "source": [
    "features_train = extract_features(Xtr,[hog_features, color_histogram_hsv]) #extrae todo\n",
    "features_test = extract_features(Xte,[hog_features, color_histogram_hsv]) #extrae todo\n",
    "features_val = extract_features(Xv,[hog_features, color_histogram_hsv]) #extrae todo\n",
    "\n",
    "print Xtr.shape\n",
    "print features_train.shape"
   ]
  },
  {
   "cell_type": "code",
   "execution_count": 15,
   "metadata": {
    "collapsed": false
   },
   "outputs": [
    {
     "name": "stdout",
     "output_type": "stream",
     "text": [
      " 9856/10000 [============================>.] - ETA: 0s\n",
      "Accuracy de train: 0.941618\n",
      "Accuracy de validacion: 0.925220\n",
      "Accuracy de test: 0.925630\n"
     ]
    }
   ],
   "source": [
    "do_red_neuronal(features_train, Ytr, features_test, Yte, features_val, Yv)"
   ]
  },
  {
   "cell_type": "markdown",
   "metadata": {
    "collapsed": true
   },
   "source": [
    "### e) SVM No-Lineal"
   ]
  },
  {
   "cell_type": "markdown",
   "metadata": {},
   "source": [
    "En primer lugar se debe resaltar que Kenalizar una SVM tiene un costo elevado de aproximadamente $O(n_{features} \\times n^{2}_{data})$. Además en la documentación de sklearn expecifica que para data sets con más de 10000 datos es difícil de escalar ([scikit-learn: SVM](http://scikit-learn.org/stable/modules/generated/sklearn.svm.SVC.html)). Lo cual vuelve inviable la utilizan de una SVM no lineal en este problema, ya que se tienen 40000 datos de entrenamiento y 3072 caráctiristicas. Por lo tanto se opto por reducir el conjunto de datos a 10000."
   ]
  },
  {
   "cell_type": "code",
   "execution_count": 39,
   "metadata": {
    "collapsed": false
   },
   "outputs": [],
   "source": [
    "Xtr, Ytr, Xte, Yte, Xv, Yv = load_CIFAR10('.')\n",
    "Xtr= Xtr[0:10000]\n",
    "Ytr = Ytr[0:10000]\n",
    "Xtr, Xte, Xv = scaler_function(Xtr,Xte,Xv, type='intensidad_maxima')"
   ]
  },
  {
   "cell_type": "code",
   "execution_count": 42,
   "metadata": {
    "collapsed": true
   },
   "outputs": [],
   "source": [
    "from sklearn.svm import SVC\n",
    "\n",
    "def do_SVM_no_lineal(x,y,xt,yt,xv,yv,model_type,best):\n",
    "    Cs = np.logspace(-2, 4,base=2, num=7)\n",
    "    acc_val = []\n",
    "    models = []\n",
    "    for C in Cs:\n",
    "        if model_type == 'rbf':\n",
    "            clf = SVC(C=C, kernel='rbf')\n",
    "        elif model_type == 'poly':\n",
    "            clf = SVC(C=C, kernel='poly',degree=2, coef0=1)\n",
    "\n",
    "        clf=clf.fit(x,y)\n",
    "                \n",
    "        acc_val.append(clf.score(xv,yv))\n",
    "        models.append(clf)\n",
    "\n",
    "    if best:\n",
    "        best_ = acc_val.index(max(acc_val))\n",
    "        C_b = Cs[best_]\n",
    "        model_b = models[best_]\n",
    "        print \"Mejor parámetro de regularización C: %s\"%(C_b)\n",
    "        print \"Mejor Accuracy de validación: %f\"%(max(acc_val))\n",
    "        print \"\\nAccuracy de entrenamiento: %f\"%(model_b.score(x,y))\n",
    "        print \"Accuracy de prueba: %f\"%(model_b.score(xt,yt))\n",
    "        \n",
    "        plt.figure(figsize=(10,5))\n",
    "        ax = plt.gca()\n",
    "        #ax.plot(Cs,acc_tr,label='Accuracy train')\n",
    "        ax.plot(Cs,acc_val,label=u'Accuracy validación')\n",
    "        #plt.legend(bbox_to_anchor=(1.05, 1), loc=2, borderaxespad=0.)\n",
    "        plt.xlabel('C', fontsize= 16)\n",
    "        plt.ylabel('Accuracy', fontsize= 16)\n",
    "        plt.title('SVM no Lineal con kernel %s'%(model_type), fontsize= 20)\n",
    "        ax.set_xscale('linear')\n",
    "        plt.show()"
   ]
  },
  {
   "cell_type": "code",
   "execution_count": 8,
   "metadata": {
    "collapsed": false
   },
   "outputs": [
    {
     "name": "stdout",
     "output_type": "stream",
     "text": [
      "Mejor parámetro de regularización C: 4.0\n",
      "Mejor Accuracy de validación: 0.489700\n",
      "\n",
      "Accuracy de entrenamiento: 0.957200\n",
      "Accuracy de prueba: 0.487100\n"
     ]
    },
    {
     "data": {
      "image/png": "[encoded data removed]",
      "text/plain": [
       "<matplotlib.figure.Figure at 0xc0564e0>"
      ]
     },
     "metadata": {},
     "output_type": "display_data"
    },
    {
     "data": {
      "text/plain": [
       "SVC(C=4.0, cache_size=200, class_weight=None, coef0=0.0,\n",
       "  decision_function_shape=None, degree=3, gamma='auto', kernel='rbf',\n",
       "  max_iter=-1, probability=False, random_state=None, shrinking=True,\n",
       "  tol=0.001, verbose=False)"
      ]
     },
     "execution_count": 8,
     "metadata": {},
     "output_type": "execute_result"
    }
   ],
   "source": [
    "do_SVM_no_lineal(Xtr, Ytr, Xte, Yte, Xv, Yv, 'rbf', best=True)"
   ]
  },
  {
   "cell_type": "code",
   "execution_count": null,
   "metadata": {
    "collapsed": false
   },
   "outputs": [],
   "source": [
    "do_SVM_no_lineal(Xtr, Ytr, Xte, Yte, Xv, Yv, 'poly', best=True)"
   ]
  },
  {
   "cell_type": "markdown",
   "metadata": {},
   "source": [
    "#### Feature: Histograma de Tono"
   ]
  },
  {
   "cell_type": "code",
   "execution_count": 40,
   "metadata": {
    "collapsed": false
   },
   "outputs": [
    {
     "name": "stdout",
     "output_type": "stream",
     "text": [
      "(10000L, 32L, 32L, 3L)\n",
      "(10000L, 32L, 32L, 3L)\n",
      "(10000L, 32L, 32L, 3L)\n"
     ]
    }
   ],
   "source": [
    "features_train = extract_features(Xtr,[color_histogram_hsv]) #extrae histogramas de color\n",
    "features_test = extract_features(Xte,[color_histogram_hsv]) #extrae histogramas de color\n",
    "features_val = extract_features(Xv,[color_histogram_hsv]) #extrae histogramas de color"
   ]
  },
  {
   "cell_type": "code",
   "execution_count": 44,
   "metadata": {
    "collapsed": false
   },
   "outputs": [
    {
     "name": "stdout",
     "output_type": "stream",
     "text": [
      "Mejor parámetro de regularización C: 16.0\n",
      "Mejor Accuracy de validación: 0.245200\n",
      "\n",
      "Accuracy de entrenamiento: 0.256900\n",
      "Accuracy de prueba: 0.253200\n"
     ]
    },
    {
     "data": {
      "image/png": "[encoded data removed]",
      "text/plain": [
       "<matplotlib.figure.Figure at 0xe9a4eb8>"
      ]
     },
     "metadata": {},
     "output_type": "display_data"
    }
   ],
   "source": [
    "do_SVM_no_lineal(features_train, Ytr, features_test, Yte, features_val, Yv, 'rbf', best=True)\n",
    "#do_SVM_no_lineal(features_train, Ytr, features_test, Yte, features_val, Yv, 'poly', best=True)"
   ]
  },
  {
   "cell_type": "markdown",
   "metadata": {},
   "source": [
    "#### Feature: Descriptores HOG"
   ]
  },
  {
   "cell_type": "code",
   "execution_count": 45,
   "metadata": {
    "collapsed": false
   },
   "outputs": [
    {
     "name": "stdout",
     "output_type": "stream",
     "text": [
      "(10000L, 32L, 32L, 3L)\n",
      "(10000L, 32L, 32L, 3L)\n",
      "(10000L, 32L, 32L, 3L)\n"
     ]
    }
   ],
   "source": [
    "features_train = extract_features(Xtr,[hog_features]) #extrae hog features\n",
    "features_test = extract_features(Xte,[hog_features]) #extrae hog features\n",
    "features_val = extract_features(Xv,[hog_features]) #extrae hog features"
   ]
  },
  {
   "cell_type": "code",
   "execution_count": 46,
   "metadata": {
    "collapsed": false
   },
   "outputs": [
    {
     "name": "stdout",
     "output_type": "stream",
     "text": [
      "Mejor parámetro de regularización C: 16.0\n",
      "Mejor Accuracy de validación: 0.100700\n",
      "\n",
      "Accuracy de entrenamiento: 0.108900\n",
      "Accuracy de prueba: 0.103000\n"
     ]
    },
    {
     "data": {
      "image/png": "[encoded data removed]",
      "text/plain": [
       "<matplotlib.figure.Figure at 0xe9a4ba8>"
      ]
     },
     "metadata": {},
     "output_type": "display_data"
    }
   ],
   "source": [
    "do_SVM_no_lineal(features_train, Ytr, features_test, Yte, features_val, Yv, 'rbf', best=True)\n",
    "#do_SVM_no_lineal(features_train, Ytr, features_test, Yte, features_val, Yv, 'poly', best=True)"
   ]
  },
  {
   "cell_type": "markdown",
   "metadata": {},
   "source": [
    "#### Feature: Híbrido (HOG e Histograma)"
   ]
  },
  {
   "cell_type": "code",
   "execution_count": 47,
   "metadata": {
    "collapsed": false
   },
   "outputs": [
    {
     "name": "stdout",
     "output_type": "stream",
     "text": [
      "(10000L, 32L, 32L, 3L)\n",
      "(10000L, 32L, 32L, 3L)\n",
      "(10000L, 32L, 32L, 3L)\n"
     ]
    }
   ],
   "source": [
    "features_train = extract_features(Xtr,[hog_features, color_histogram_hsv]) #extrae todo\n",
    "features_test = extract_features(Xte,[hog_features, color_histogram_hsv]) #extrae todo\n",
    "features_val = extract_features(Xv,[hog_features, color_histogram_hsv]) #extrae todo"
   ]
  },
  {
   "cell_type": "code",
   "execution_count": 48,
   "metadata": {
    "collapsed": false
   },
   "outputs": [
    {
     "name": "stdout",
     "output_type": "stream",
     "text": [
      "Mejor parámetro de regularización C: 16.0\n",
      "Mejor Accuracy de validación: 0.254600\n",
      "\n",
      "Accuracy de entrenamiento: 0.261000\n",
      "Accuracy de prueba: 0.251900\n"
     ]
    },
    {
     "data": {
      "image/png": "[encoded data removed]",
      "text/plain": [
       "<matplotlib.figure.Figure at 0x106d8be0>"
      ]
     },
     "metadata": {},
     "output_type": "display_data"
    }
   ],
   "source": [
    "do_SVM_no_lineal(features_train, Ytr, features_test, Yte, features_val, Yv, 'rbf', best=True)\n",
    "#do_SVM_no_lineal(features_train, Ytr, features_test, Yte, features_val, Yv, 'poly', best=True)"
   ]
  },
  {
   "cell_type": "markdown",
   "metadata": {},
   "source": [
    "#### SVM son Inviables o.ó"
   ]
  },
  {
   "cell_type": "markdown",
   "metadata": {},
   "source": [
    "### f) Árbol de clasificación\n",
    "\n",
    "Para la realización de los experimentos con árboles, no se considera estandarización de los datos, ya que los arboles no se ven influenciados mayormente por este tipo de pre procesamiento. Se prueban valores de la profundidad del árbol, correspondiente al parámetro $\\textit{max_depth}$ entre 2 y 20 sobre el conjunto de validación con el objetivo de obtener los mejores resultados antes de evaluar en el set de pruebas.\n",
    "\n",
    "Como ocurrió anteriormente, se prueban los árboles en diferentes datos de entrenamiento considerando los atributos de alto nivel producidos por la extracción de características.\n"
   ]
  },
  {
   "cell_type": "code",
   "execution_count": 18,
   "metadata": {
    "collapsed": true
   },
   "outputs": [],
   "source": [
    "Xtr, Ytr, Xte, Yte, Xv, Yv = load_CIFAR10('.')"
   ]
  },
  {
   "cell_type": "code",
   "execution_count": 19,
   "metadata": {
    "collapsed": true
   },
   "outputs": [],
   "source": [
    "from sklearn.tree import DecisionTreeClassifier as Tree\n",
    "\n",
    "def do_Tree(x,y,xt,yt,xv,yv):\n",
    "    N_ts = np.linspace(2, 20, num=20)\n",
    "    acc_val = []\n",
    "    models = []\n",
    "    for n_t in N_ts:\n",
    "        clf=Tree(criterion='gini',splitter='best',random_state=0,max_depth=n_t)\n",
    "        clf=clf.fit(x,y)\n",
    "        acc_val.append(clf.score(xv,yv))\n",
    "        models.append(clf)\n",
    "    best_ = acc_val.index(max(acc_val))            \n",
    "    model_best = models[best_]\n",
    "    \n",
    "    print \"Profundidad del mejor árbol = %d\"%model_best.tree_.max_depth\n",
    "    print \"Mejor Accuracy de validación: %f\"%(max(acc_val))\n",
    "    print \"\\nAccuracy de entrenamiento: %f\"%(model_best.score(x,y))\n",
    "    print \"Accuracy de prueba: %f\"%(model_best.score(xt,yt))\n",
    "    \n",
    "    plt.figure(figsize=(10,5))\n",
    "    ax = plt.gca()\n",
    "    #ax.plot(N_ts,acc_tr,label='Accuracy train')\n",
    "    ax.plot(N_ts,acc_val,label=u'Accuracy validación')\n",
    "\n",
    "    #plt.legend(bbox_to_anchor=(1.05, 1), loc=2, borderaxespad=0.)\n",
    "    plt.xlabel('N_t', fontsize= 16)\n",
    "    plt.ylabel('Accuracy validación', fontsize= 16)\n",
    "    plt.title(u'Árbol de clasificación con múltiples niveles', fontsize= 20)\n",
    "    ax.set_xscale('linear')\n",
    "    plt.show()"
   ]
  },
  {
   "cell_type": "code",
   "execution_count": 20,
   "metadata": {
    "collapsed": false
   },
   "outputs": [
    {
     "name": "stdout",
     "output_type": "stream",
     "text": [
      "Profundidad del mejor árbol = 9\n",
      "Mejor Accuracy de validación: 0.298300\n",
      "\n",
      "Accuracy de entrenamiento: 0.390000\n",
      "Accuracy de prueba: 0.302000\n"
     ]
    },
    {
     "data": {
      "image/png": "[encoded data removed]",
      "text/plain": [
       "<matplotlib.figure.Figure at 0xe6dd2b0>"
      ]
     },
     "metadata": {},
     "output_type": "display_data"
    }
   ],
   "source": [
    "do_Tree(Xtr, Ytr, Xte, Yte, Xv, Yv)"
   ]
  },
  {
   "cell_type": "markdown",
   "metadata": {},
   "source": [
    "Como se observa, la profundidad del mejor árbol corresponde a 9, además el mejor accuracy de validación es 0.298300. Considerando tanto el accuracy de entrenamiento y pruebas, se observa que el árbol generaliza en mayor medida, sin embargo los resultados obtenidos son bastante malos, considerando que una predicción aleatoria puede entregar mejores resultados. El grafico muestra como a medida que aumenta la profundidad del árbol, el accuracy es creciente, hasta llegar a 9 niveles de profundidad. Luego, la accuracy decrece significativamente, esto puede  deberse a que las reglas son demasiado específicas, es decir, el sobre ajuste crece considerablemente con cada nivel añadido."
   ]
  },
  {
   "cell_type": "markdown",
   "metadata": {},
   "source": [
    "#### Feature: Histograma de Tono"
   ]
  },
  {
   "cell_type": "code",
   "execution_count": 21,
   "metadata": {
    "collapsed": false
   },
   "outputs": [
    {
     "name": "stdout",
     "output_type": "stream",
     "text": [
      "(40000L, 32L, 32L, 3L)\n",
      "(10000L, 32L, 32L, 3L)\n",
      "(10000L, 32L, 32L, 3L)\n"
     ]
    }
   ],
   "source": [
    "features_train = extract_features(Xtr,[color_histogram_hsv]) #extrae histogramas de color\n",
    "features_test = extract_features(Xte,[color_histogram_hsv]) #extrae histogramas de color\n",
    "features_val = extract_features(Xv,[color_histogram_hsv]) #extrae histogramas de color"
   ]
  },
  {
   "cell_type": "code",
   "execution_count": 22,
   "metadata": {
    "collapsed": false
   },
   "outputs": [
    {
     "name": "stdout",
     "output_type": "stream",
     "text": [
      "Profundidad del mejor árbol = 9\n",
      "Mejor Accuracy de validación: 0.250000\n",
      "\n",
      "Accuracy de entrenamiento: 0.308525\n",
      "Accuracy de prueba: 0.258100\n"
     ]
    },
    {
     "data": {
      "image/png": "[encoded data removed]",
      "text/plain": [
       "<matplotlib.figure.Figure at 0xc51d160>"
      ]
     },
     "metadata": {},
     "output_type": "display_data"
    }
   ],
   "source": [
    "do_Tree(features_train, Ytr, features_test, Yte, features_val, Yv)"
   ]
  },
  {
   "cell_type": "markdown",
   "metadata": {},
   "source": [
    "El histograma de tonos, conserva solo 10 características, lo cual puede afectar negativamente a los resultados, debido a que se pierde mucha información sobre las imágenes. Nuevamente, la mejor profundidad para el árbol es 9, y el mejor accuracy de validación es 0.25. Con este parámetro, se obtiene un accuracy en el set de pruebas de 0.258100, aproximadamente 4% menor al caso anterior. Esto, es aún peor que los resultados obtenidos con la totalidad de los datos. \n",
    "\n",
    "El grafico es similar al anterior, lo cual indica que esta técnica de extracción de características no es apropiada en este caso. Esto puede deberse principalmente a que la extracción de características mediante histograma de color, solo analiza los colores como función principal para describir un objeto, esto sin embargo, para este problema no es muy conveniente, debido a que por ejemplo pueden existir autos o animales de distintos colores, y por lo mismo el color no es algo particularmente representativo de clases tan genéricas."
   ]
  },
  {
   "cell_type": "markdown",
   "metadata": {},
   "source": [
    "#### Feature: Descriptores HOG"
   ]
  },
  {
   "cell_type": "code",
   "execution_count": 23,
   "metadata": {
    "collapsed": false
   },
   "outputs": [
    {
     "name": "stdout",
     "output_type": "stream",
     "text": [
      "(40000L, 32L, 32L, 3L)\n",
      "(10000L, 32L, 32L, 3L)\n",
      "(10000L, 32L, 32L, 3L)\n"
     ]
    }
   ],
   "source": [
    "features_train = extract_features(Xtr,[hog_features]) #extrae hog features\n",
    "features_test = extract_features(Xte,[hog_features]) #extrae hog features\n",
    "features_val = extract_features(Xv,[hog_features]) #extrae hog features"
   ]
  },
  {
   "cell_type": "code",
   "execution_count": 24,
   "metadata": {
    "collapsed": false
   },
   "outputs": [
    {
     "name": "stdout",
     "output_type": "stream",
     "text": [
      "Profundidad del mejor árbol = 9\n",
      "Mejor Accuracy de validación: 0.285800\n",
      "\n",
      "Accuracy de entrenamiento: 0.368350\n",
      "Accuracy de prueba: 0.283800\n"
     ]
    },
    {
     "data": {
      "image/png": "[encoded data removed]",
      "text/plain": [
       "<matplotlib.figure.Figure at 0xe7eb668>"
      ]
     },
     "metadata": {},
     "output_type": "display_data"
    }
   ],
   "source": [
    "do_Tree(features_train, Ytr, features_test, Yte, features_val, Yv)"
   ]
  },
  {
   "cell_type": "markdown",
   "metadata": {},
   "source": [
    "Como ocurre en casos anteriores, el mejor parámetro es 9 niveles de profundidad del árbol. Notar que los descriptores HOG, conservan 144 características, que es un número  bastante pequeño comparado con el conjunto de entrenamiento original.  Los resultados nuevamente no son para nada positivos, con valores de 0.285800 para el set de validación y 0.283800 para el conjunto de pruebas.\n",
    "\n",
    "A pesar que los descriptores HOG sirven para el reconocimiento de patrones estructurales y objetos, utilizando arboles no se nota una mejora significativa, esto puede ser producto a que los arboles no son buenos para realizar clasificaciones sobre conjuntos de datos con mucha varianza, ya que son afectados por la jerarquía de las características. Esto es, si una imagen cambia ligeramente algún conjunto pequeño de pixeles, el árbol cambiara completamente, lo cual produce que las predicciones no sean acertadas."
   ]
  },
  {
   "cell_type": "markdown",
   "metadata": {},
   "source": [
    "#### Feature: Híbrido (HOG e Histograma)"
   ]
  },
  {
   "cell_type": "code",
   "execution_count": 25,
   "metadata": {
    "collapsed": false
   },
   "outputs": [
    {
     "name": "stdout",
     "output_type": "stream",
     "text": [
      "(40000L, 32L, 32L, 3L)\n",
      "(10000L, 32L, 32L, 3L)\n",
      "(10000L, 32L, 32L, 3L)\n"
     ]
    }
   ],
   "source": [
    "features_train = extract_features(Xtr,[hog_features, color_histogram_hsv]) #extrae todo\n",
    "features_test = extract_features(Xte,[hog_features, color_histogram_hsv]) #extrae todo\n",
    "features_val = extract_features(Xv,[hog_features, color_histogram_hsv]) #extrae todo"
   ]
  },
  {
   "cell_type": "code",
   "execution_count": 26,
   "metadata": {
    "collapsed": false
   },
   "outputs": [
    {
     "name": "stdout",
     "output_type": "stream",
     "text": [
      "Profundidad del mejor árbol = 10\n",
      "Mejor Accuracy de validación: 0.317800\n",
      "\n",
      "Accuracy de entrenamiento: 0.443925\n",
      "Accuracy de prueba: 0.314200\n"
     ]
    },
    {
     "data": {
      "image/png": "[encoded data removed]",
      "text/plain": [
       "<matplotlib.figure.Figure at 0xebfddd8>"
      ]
     },
     "metadata": {},
     "output_type": "display_data"
    }
   ],
   "source": [
    "do_Tree(features_train, Ytr, features_test, Yte, features_val, Yv)"
   ]
  },
  {
   "cell_type": "markdown",
   "metadata": {},
   "source": [
    "La combinación de ambos métodos, genera 154 características, y en ese caso el mejor parámetro corresponde a 10 niveles de profundidad del árbol. Un detalle importante es que en ese caso el accuracy sobre el set de validación es 0.317800, y el de entrenamiento es 0.443925, con lo cual ya existe cierta cantidad de sobre ajuste del modelo. Por otra parte, el accuracy del set de pruebas es 0.314200, que comparado con los descriptores anteriores y la matriz original de entrenamiento, no mejora mucho más de un 1% , que está dentro de un rango de incertidumbre posible de los datos, y no puede ser especialmente atribuido a una mejora por las técnicas aplicadas.\n",
    "\n",
    "Con los anteriores resultados, es claro que los arboles de clasificación, sin importar las técnicas usadas para mejorar su desempeño, no son indicados para desempeñar la tarea de clasificación de imágenes, debido a que no están preparados para lidiar con problemas que contengan datos variantes, ya que la inferencia de reglas es fija y al introducir imágenes con pequeñas variantes, el árbol no es capaz de determinar estos cambios. Los 4 gráficos utilizados son similares, por lo mismo, se establece que el comportamiento de los arboles no cambia mayormente al utilizar las técnicas de extracción de atributos."
   ]
  }
 ],
 "metadata": {
  "anaconda-cloud": {},
  "kernelspec": {
   "display_name": "Python [conda root]",
   "language": "python",
   "name": "conda-root-py"
  },
  "language_info": {
   "codemirror_mode": {
    "name": "ipython",
    "version": 2
   },
   "file_extension": ".py",
   "mimetype": "text/x-python",
   "name": "python",
   "nbconvert_exporter": "python",
   "pygments_lexer": "ipython2",
   "version": "2.7.12"
  }
 },
 "nbformat": 4,
 "nbformat_minor": 0
}
